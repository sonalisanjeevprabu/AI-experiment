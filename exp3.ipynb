{
 "cells": [
  {
   "cell_type": "code",
   "execution_count": 58,
   "id": "035e3797-e880-48d4-8872-94895b81e77e",
   "metadata": {},
   "outputs": [
    {
     "name": "stdout",
     "output_type": "stream",
     "text": [
      "Total cost:6\n",
      "Path:['A', 'C', 'F']\n"
     ]
    }
   ],
   "source": [
    "import heapq\n",
    "def ucs(graph,start,goal):\n",
    "    priority_queue=[(0,start,[])]\n",
    "    visited=set()\n",
    "    while priority_queue:\n",
    "        cost,node,path=heapq.heappop(priority_queue)\n",
    "        if node in visited:\n",
    "            continue\n",
    "        path=path+[node]\n",
    "        visited.add(node)\n",
    "        if node == goal:\n",
    "            return cost,path\n",
    "        for neighbour,edge_cost in graph.get(node,[]).items():\n",
    "            if neighbour not in visited:\n",
    "                heapq.heappush(priority_queue,(edge_cost+cost,neighbour,path))\n",
    "    return float(\"inf\"),[]\n",
    "      \n",
    "\n",
    "graph ={  \n",
    "    'A': {'B': 1, 'C': 4},  \n",
    "    'B': {'D': 3, 'E': 7},  \n",
    "    'C': {'F': 2},  \n",
    "    'D': {'F': 5},  \n",
    "    'E': {'F': 2},  \n",
    "    'F': {} } \n",
    "  \n",
    "start_node=\"A\"\n",
    "goal_node=\"F\"\n",
    "cost,path=ucs(graph,start_node,goal_node)\n",
    "print(f\"Total cost:{cost}\")\n",
    "print(f\"Path:{path}\")             \n",
    "                \n",
    "        "
   ]
  },
  {
   "cell_type": "code",
   "execution_count": null,
   "id": "b0fa7c37-36e6-448a-b0d1-a0bf16f90ff0",
   "metadata": {},
   "outputs": [],
   "source": []
  },
  {
   "cell_type": "code",
   "execution_count": null,
   "id": "cb9dcdb9-51e2-443e-9785-ebc47d6f0df0",
   "metadata": {},
   "outputs": [],
   "source": []
  },
  {
   "cell_type": "code",
   "execution_count": null,
   "id": "9b0bf080-99c2-4c1f-be8e-30641a388e47",
   "metadata": {},
   "outputs": [],
   "source": []
  }
 ],
 "metadata": {
  "kernelspec": {
   "display_name": "Python 3 (ipykernel)",
   "language": "python",
   "name": "python3"
  },
  "language_info": {
   "codemirror_mode": {
    "name": "ipython",
    "version": 3
   },
   "file_extension": ".py",
   "mimetype": "text/x-python",
   "name": "python",
   "nbconvert_exporter": "python",
   "pygments_lexer": "ipython3",
   "version": "3.12.7"
  }
 },
 "nbformat": 4,
 "nbformat_minor": 5
}
