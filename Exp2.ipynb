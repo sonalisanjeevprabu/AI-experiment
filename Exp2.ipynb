{
 "cells": [
  {
   "cell_type": "code",
   "execution_count": 3,
   "id": "a491623e-73e2-460e-aa44-041cddb867e6",
   "metadata": {},
   "outputs": [
    {
     "name": "stdout",
     "output_type": "stream",
     "text": [
      "  Name  Rollno\n",
      "0    X     101\n",
      "1    Y     102\n",
      "2    Z     103\n"
     ]
    }
   ],
   "source": [
    "#exp2\n",
    "import pandas as pd\n",
    "stud={\"Name\":[\"X\",\"Y\",\"Z\"],\"Rollno\":[101,102,103]}\n",
    "df=pd.DataFrame(stud)\n",
    "print(df)"
   ]
  },
  {
   "cell_type": "code",
   "execution_count": null,
   "id": "f34c5905-b61b-4045-a3dc-9cc5183f87d3",
   "metadata": {},
   "outputs": [],
   "source": []
  }
 ],
 "metadata": {
  "kernelspec": {
   "display_name": "Python [conda env:base] *",
   "language": "python",
   "name": "conda-base-py"
  },
  "language_info": {
   "codemirror_mode": {
    "name": "ipython",
    "version": 3
   },
   "file_extension": ".py",
   "mimetype": "text/x-python",
   "name": "python",
   "nbconvert_exporter": "python",
   "pygments_lexer": "ipython3",
   "version": "3.12.7"
  }
 },
 "nbformat": 4,
 "nbformat_minor": 5
}
