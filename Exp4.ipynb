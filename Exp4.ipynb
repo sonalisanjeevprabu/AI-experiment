{
 "cells": [
  {
   "cell_type": "code",
   "execution_count": 1,
   "id": "babb2386-c049-4738-bfae-0de7e8dbd604",
   "metadata": {},
   "outputs": [
    {
     "name": "stdout",
     "output_type": "stream",
     "text": [
      "Path: ['A', 'B', 'D', 'G']\n",
      "Total cost: 5\n"
     ]
    }
   ],
   "source": [
    "import heapq\n",
    "\n",
    "def astar(start, goal, graph, heuristic):\n",
    "    openlist = []\n",
    "    heapq.heappush(openlist, (0 + heuristic[start], start))\n",
    "    gcost = {start: 0}\n",
    "    parents = {start: None}\n",
    "\n",
    "    while openlist:\n",
    "        _, current_node = heapq.heappop(openlist)\n",
    "\n",
    "        if current_node == goal:\n",
    "            path = []\n",
    "            while current_node:\n",
    "                path.append(current_node)\n",
    "                current_node = parents[current_node]\n",
    "            return path[::-1]\n",
    "\n",
    "        for neighbour, cost in graph[current_node].items():\n",
    "            tentative = gcost[current_node] + cost\n",
    "            if neighbour not in gcost or tentative < gcost[neighbour]:\n",
    "                gcost[neighbour] = tentative\n",
    "                fcost = tentative + heuristic[neighbour]\n",
    "                heapq.heappush(openlist, (fcost, neighbour))\n",
    "                parents[neighbour] = current_node\n",
    "\n",
    "    return None\n",
    "\n",
    "# Graph and heuristic definition\n",
    "graph = {\n",
    "    'A': {'B': 1, 'C': 4},\n",
    "    'B': {'A': 1, 'D': 2, 'E': 5},\n",
    "    'C': {'A': 4, 'F': 12},\n",
    "    'D': {'B': 2, 'G': 2},\n",
    "    'E': {'B': 5, 'G': 5},\n",
    "    'F': {'C': 12, 'G': 3},\n",
    "    'G': {'D': 2, 'F': 3}\n",
    "}\n",
    "\n",
    "heuristic = {\n",
    "    'A': 6, 'B': 4, 'C': 4, 'D': 3,\n",
    "    'E': 2, 'F': 2, 'G': 0\n",
    "}\n",
    "\n",
    "start = 'A'\n",
    "goal = 'G'\n",
    "\n",
    "path = astar(start, goal, graph, heuristic)\n",
    "print(\"Path:\", path)\n",
    "\n",
    "cost = sum(graph[path[i]][path[i + 1]] for i in range(len(path) - 1))\n",
    "print(\"Total cost:\", cost)"
   ]
  },
  {
   "cell_type": "code",
   "execution_count": null,
   "id": "3912b02f-3b79-4c03-9605-ef249b632af5",
   "metadata": {},
   "outputs": [],
   "source": []
  }
 ],
 "metadata": {
  "kernelspec": {
   "display_name": "Python 3 (ipykernel)",
   "language": "python",
   "name": "python3"
  },
  "language_info": {
   "codemirror_mode": {
    "name": "ipython",
    "version": 3
   },
   "file_extension": ".py",
   "mimetype": "text/x-python",
   "name": "python",
   "nbconvert_exporter": "python",
   "pygments_lexer": "ipython3",
   "version": "3.12.7"
  }
 },
 "nbformat": 4,
 "nbformat_minor": 5
}
