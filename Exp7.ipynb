{
 "cells": [
  {
   "cell_type": "code",
   "execution_count": 2,
   "id": "fa9023e9-b668-4c79-b0d5-e91c8bf752b7",
   "metadata": {},
   "outputs": [
    {
     "name": "stdout",
     "output_type": "stream",
     "text": [
      "[1, 3, 0, 2]\n",
      "[2, 0, 3, 1]\n"
     ]
    }
   ],
   "source": [
    "def is_safe(position, row, col):\n",
    "    for r in range(row):\n",
    "        c = position[r]\n",
    "        if c == col or abs(c - col) == abs(r - row):\n",
    "            return False\n",
    "    return True\n",
    "\n",
    "def solve_n_queens(n):\n",
    "    def backtrack(row, position):\n",
    "        if row == n:\n",
    "            solutions.append(position[:])\n",
    "            return\n",
    "        for col in range(n):\n",
    "            if is_safe(position, row, col):\n",
    "                position[row] = col\n",
    "                backtrack(row + 1, position)\n",
    "                position[row] = -1\n",
    "\n",
    "    solutions = []\n",
    "    backtrack(0, [-1] * n)\n",
    "    return solutions\n",
    "\n",
    "# Print solutions for 4x4\n",
    "solutions = solve_n_queens(4)\n",
    "for sol in solutions:\n",
    "    print(sol)\n"
   ]
  },
  {
   "cell_type": "code",
   "execution_count": null,
   "id": "feec56d5-eba3-4bd3-91af-7fd93a55e943",
   "metadata": {},
   "outputs": [],
   "source": []
  }
 ],
 "metadata": {
  "kernelspec": {
   "display_name": "Python 3 (ipykernel)",
   "language": "python",
   "name": "python3"
  },
  "language_info": {
   "codemirror_mode": {
    "name": "ipython",
    "version": 3
   },
   "file_extension": ".py",
   "mimetype": "text/x-python",
   "name": "python",
   "nbconvert_exporter": "python",
   "pygments_lexer": "ipython3",
   "version": "3.12.7"
  }
 },
 "nbformat": 4,
 "nbformat_minor": 5
}
