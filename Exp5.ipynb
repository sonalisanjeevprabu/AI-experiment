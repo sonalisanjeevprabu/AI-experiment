{
 "cells": [
  {
   "cell_type": "code",
   "execution_count": 1,
   "id": "d6dd9339-0b0a-471c-bdff-7cdcfef2c273",
   "metadata": {},
   "outputs": [
    {
     "name": "stdout",
     "output_type": "stream",
     "text": [
      "Best solution: 3.0000000000000013\n",
      "Optimal value: 5.0\n"
     ]
    }
   ],
   "source": [
    "def f(x):\n",
    "    return 2**(-2 * ((x - 3)**2)) + 4\n",
    "\n",
    "def hill_climbing(starting_point, step_size=0.1, max_iterations=100):\n",
    "    current_solution = starting_point\n",
    "    current_value = f(current_solution)\n",
    "\n",
    "    for _ in range(max_iterations):\n",
    "        left_neighbour = current_solution - step_size\n",
    "        right_neighbour = current_solution + step_size\n",
    "\n",
    "        left_value = f(left_neighbour)\n",
    "        right_value = f(right_neighbour)\n",
    "\n",
    "        if left_value > current_value:\n",
    "            current_solution = left_neighbour\n",
    "            current_value = left_value\n",
    "        elif right_value > current_value:\n",
    "            current_solution = right_neighbour\n",
    "            current_value = right_value\n",
    "        else:\n",
    "            break  # Local maxima reached\n",
    "\n",
    "    return current_solution, current_value\n",
    "\n",
    "starting_point = 0\n",
    "optimal_solution, optimal_value = hill_climbing(starting_point)\n",
    "\n",
    "print(f\"Best solution: {optimal_solution}\")\n",
    "print(f\"Optimal value: {optimal_value}\")"
   ]
  },
  {
   "cell_type": "code",
   "execution_count": null,
   "id": "05f9e264-e6be-45e0-b7d1-58b2774d0979",
   "metadata": {},
   "outputs": [],
   "source": []
  }
 ],
 "metadata": {
  "kernelspec": {
   "display_name": "Python 3 (ipykernel)",
   "language": "python",
   "name": "python3"
  },
  "language_info": {
   "codemirror_mode": {
    "name": "ipython",
    "version": 3
   },
   "file_extension": ".py",
   "mimetype": "text/x-python",
   "name": "python",
   "nbconvert_exporter": "python",
   "pygments_lexer": "ipython3",
   "version": "3.12.7"
  }
 },
 "nbformat": 4,
 "nbformat_minor": 5
}
